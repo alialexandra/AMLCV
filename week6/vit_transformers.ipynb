{
 "cells": [
  {
   "cell_type": "markdown",
   "metadata": {},
   "source": [
    "# Vision Transformer (ViT) Fine-Tuning on CIFAR-10\n",
    "\n",
    "## Assignment Tasks (a)–(f)\n",
    "\n",
    "This notebook demonstrates how to fine-tune a pre-trained Vision Transformer (ViT) model on the CIFAR-10 dataset using Hugging Face Transformers.\n",
    "\n",
    "It fulfills all assignment requirements:\n",
    "\n",
    "- **(a)** Load and preprocess CIFAR-10.\n",
    "- **(b)** Load a pre-trained ViT model.\n",
    "- **(c)** Fine-tune (freeze backbone, train classifier).\n",
    "- **(d)** Train and monitor performance.\n",
    "- **(e)** Evaluate and compare with model trained from scratch.\n",
    "- **(f)** Visualize attention maps."
   ],
   "id": "983ca0ab9729e7ec"
  },
  {
   "cell_type": "markdown",
   "metadata": {},
   "source": [
    "## (a) Load and Preprocess CIFAR-10\n",
    "\n",
    "We use the Hugging Face `datasets` library to load CIFAR-10, resize images to 224×224 (ViT input size), and normalize using ImageNet statistics."
   ],
   "id": "ca39272392c3d1e3"
  },
  {
   "cell_type": "code",
   "metadata": {
    "ExecuteTime": {
     "end_time": "2025-10-04T09:59:23.047779Z",
     "start_time": "2025-10-04T09:59:20.068022Z"
    }
   },
   "source": [
    "# from datasets import load_dataset\n",
    "# from transformers import ViTImageProcessor\n",
    "#\n",
    "# import torch\n",
    "# from torchvision import datasets, transforms\n",
    "# from sklearn.metrics import accuracy_score\n",
    "# import numpy as np\n",
    "#\n",
    "# # Load dataset (subset for quick training)\n",
    "# train_ds, test_ds = load_dataset('cifar10', split=['train', 'test'])\n",
    "# splits = train_ds.train_test_split(test_size=0.1)\n",
    "# train_ds, val_ds = splits['train'], splits['test']\n",
    "# print(train_ds.column_names)\n",
    "#\n",
    "# # Subset for faster demo (5k train, 1k val/test)\n",
    "# train_ds = train_ds.shuffle(seed=42).select(range(5000))\n",
    "# val_ds = val_ds.shuffle(seed=42).select(range(1000))\n",
    "# test_ds = test_ds.shuffle(seed=42).select(range(1000))\n",
    "#\n",
    "# # Image processor for resizing and normalization\n",
    "# model_name = 'google/vit-base-patch16-224'\n",
    "# processor = ViTImageProcessor.from_pretrained(model_name)\n",
    "#\n",
    "# transform = transforms.Compose([\n",
    "#     transforms.Resize((224, 224)),\n",
    "#     transforms.ToTensor(),\n",
    "#     transforms.Normalize(mean=[0.485, 0.456, 0.406],\n",
    "#                          std=[0.229, 0.224, 0.225])\n",
    "# ])\n",
    "#\n",
    "# train_data = datasets.CIFAR10(root=\"data\", train=True, download=True, transform=transform)\n",
    "# test_data  = datasets.CIFAR10(root=\"data\", train=False, download=True, transform=transform)\n",
    "#\n",
    "# print(len(train_data), len(test_data))\n",
    "#\n",
    "# batch = train_ds[:4]  # take a small batch of 4\n",
    "# print(batch.keys())   # should print ['img', 'label']\n",
    "# out = transform(batch)\n",
    "# print(out.keys())     # should print dict_keys(['pixel_values', 'labels'])\n",
    "# print(out[\"pixel_values\"].shape)\n",
    "#\n",
    "# train_ds.set_transform(transform)\n",
    "# val_ds.set_transform(transform)\n",
    "# test_ds.set_transform(transform)\n",
    "\n",
    "import torch\n",
    "from torchvision import transforms, datasets, models\n",
    "# Standard ViT preprocessing: resize + normalize using ImageNet stats\n",
    "transform = transforms.Compose([\n",
    "    transforms.Resize((224, 224)),       # Resize each image\n",
    "    transforms.ToTensor(),               # Convert to tensor (C,H,W)\n",
    "    transforms.Normalize(\n",
    "        mean=[0.485, 0.456, 0.406],      # ImageNet mean\n",
    "        std=[0.229, 0.224, 0.225]        # ImageNet std\n",
    "    )\n",
    "])\n",
    "\n",
    "# Download and apply transform\n",
    "train_data = datasets.CIFAR10(root=\"data\", train=True, download=True, transform=transform)\n",
    "test_data  = datasets.CIFAR10(root=\"data\", train=False, download=True, transform=transform)\n",
    "\n",
    "print(f\"Train samples: {len(train_data)}, Test samples: {len(test_data)}\")\n"
   ],
   "id": "6982dc039b62a2c3",
   "outputs": [
    {
     "name": "stdout",
     "output_type": "stream",
     "text": [
      "Train samples: 50000, Test samples: 10000\n"
     ]
    }
   ],
   "execution_count": 30
  },
  {
   "metadata": {},
   "cell_type": "code",
   "outputs": [],
   "source": "",
   "id": "34cb6e8099f77b87",
   "execution_count": null
  },
  {
   "cell_type": "markdown",
   "metadata": {},
   "source": [
    "## (b) Load Pre-Trained Vision Transformer\n",
    "\n",
    "We load the ImageNet-pretrained ViT model `google/vit-base-patch16-224` and adapt its classifier for CIFAR-10 (10 labels)."
   ],
   "id": "b07088ef0ba591da"
  },
  {
   "cell_type": "code",
   "metadata": {
    "ExecuteTime": {
     "end_time": "2025-10-04T09:59:54.059820Z",
     "start_time": "2025-10-04T09:59:51.433306Z"
    }
   },
   "source": [
    "from transformers import ViTForImageClassification\n",
    "\n",
    "model = ViTForImageClassification.from_pretrained(\n",
    "    model_name,\n",
    "    num_labels=10,\n",
    "    ignore_mismatched_sizes=True\n",
    ")"
   ],
   "id": "6b2aad596ee35f27",
   "outputs": [
    {
     "name": "stderr",
     "output_type": "stream",
     "text": [
      "Some weights of ViTForImageClassification were not initialized from the model checkpoint at google/vit-base-patch16-224 and are newly initialized because the shapes did not match:\n",
      "- classifier.bias: found shape torch.Size([1000]) in the checkpoint and torch.Size([10]) in the model instantiated\n",
      "- classifier.weight: found shape torch.Size([1000, 768]) in the checkpoint and torch.Size([10, 768]) in the model instantiated\n",
      "You should probably TRAIN this model on a down-stream task to be able to use it for predictions and inference.\n"
     ]
    }
   ],
   "execution_count": 32
  },
  {
   "cell_type": "markdown",
   "metadata": {},
   "source": [
    "## (c) Fine-Tuning Setup\n",
    "\n",
    "We freeze the backbone (ViT encoder) and only train the classification head. This allows the model to adapt ImageNet features to CIFAR-10 without overwriting them."
   ],
   "id": "d1f8ad89bcac1d4a"
  },
  {
   "cell_type": "code",
   "metadata": {
    "ExecuteTime": {
     "end_time": "2025-10-04T09:59:58.580461Z",
     "start_time": "2025-10-04T09:59:58.571317Z"
    }
   },
   "source": [
    "for name, param in model.named_parameters():\n",
    "    if 'classifier' not in name:\n",
    "        param.requires_grad = False"
   ],
   "id": "bf5958aa36758ea6",
   "outputs": [],
   "execution_count": 33
  },
  {
   "cell_type": "markdown",
   "metadata": {},
   "source": [
    "## (d) Training the Model\n",
    "\n",
    "We use Hugging Face's `Trainer` API, which manages optimization, logging, and evaluation automatically."
   ],
   "id": "de6d1ef540ad5b3d"
  },
  {
   "cell_type": "code",
   "metadata": {
    "ExecuteTime": {
     "start_time": "2025-10-04T10:00:22.081356Z"
    }
   },
   "source": [
    "# from transformers import TrainingArguments, Trainer\n",
    "#\n",
    "# def compute_metrics(eval_pred):\n",
    "#     logits, labels = eval_pred\n",
    "#     preds = np.argmax(logits, axis=-1)\n",
    "#     return {'accuracy': accuracy_score(labels, preds)}\n",
    "#\n",
    "# training_args = TrainingArguments(\n",
    "#     output_dir='./results_pretrained',\n",
    "#     evaluation_strategy='epoch',\n",
    "#     save_strategy='epoch',\n",
    "#     learning_rate=2e-5,\n",
    "#     per_device_train_batch_size=32,\n",
    "#     per_device_eval_batch_size=32,\n",
    "#     num_train_epochs=10,\n",
    "#     weight_decay=0.01,\n",
    "#     warmup_steps=500,\n",
    "#     logging_dir='./logs',\n",
    "#     load_best_model_at_end=True,\n",
    "#     metric_for_best_model='accuracy',\n",
    "# )\n",
    "#\n",
    "# trainer = Trainer(\n",
    "#     model=model,\n",
    "#     args=training_args,\n",
    "#     train_dataset=train_ds,\n",
    "#     eval_dataset=val_ds,\n",
    "#     tokenizer=processor,\n",
    "#     compute_metrics=compute_metrics\n",
    "# )\n",
    "#\n",
    "# trainer.train()\n",
    "\n",
    "\n",
    "from transformers import TrainingArguments, Trainer\n",
    "from sklearn.metrics import accuracy_score\n",
    "import numpy as np\n",
    "\n",
    "# Accuracy metric\n",
    "def compute_metrics(eval_pred):\n",
    "    logits, labels = eval_pred\n",
    "    preds = np.argmax(logits, axis=-1)\n",
    "    return {\"accuracy\": accuracy_score(labels, preds)}\n",
    "\n",
    "# Convert torchvision dataset → Trainer-compatible dataset\n",
    "class CIFAR10Dataset(torch.utils.data.Dataset):\n",
    "    def __init__(self, dataset):\n",
    "        self.dataset = dataset\n",
    "    def __len__(self):\n",
    "        return len(self.dataset)\n",
    "    def __getitem__(self, idx):\n",
    "        image, label = self.dataset[idx]\n",
    "        return {\"pixel_values\": image, \"labels\": label}\n",
    "\n",
    "train_ds = CIFAR10Dataset(train_data)\n",
    "test_ds  = CIFAR10Dataset(test_data)\n",
    "\n",
    "# Training parameters\n",
    "training_args = TrainingArguments(\n",
    "    output_dir=\"./vit_cifar10_finetuned\",\n",
    "    evaluation_strategy=\"epoch\",\n",
    "    save_strategy=\"epoch\",\n",
    "    learning_rate=2e-5,\n",
    "    per_device_train_batch_size=32,\n",
    "    per_device_eval_batch_size=32,\n",
    "    num_train_epochs=10,\n",
    "    weight_decay=0.01,\n",
    "    logging_dir=\"./logs\",\n",
    "    load_best_model_at_end=True,\n",
    "    metric_for_best_model=\"accuracy\",\n",
    ")\n",
    "\n",
    "trainer = Trainer(\n",
    "    model=model,\n",
    "    args=training_args,\n",
    "    train_dataset=train_ds,\n",
    "    eval_dataset=test_ds,\n",
    "    compute_metrics=compute_metrics,\n",
    ")\n",
    "\n",
    "trainer.train()\n"
   ],
   "id": "44d67bac56c49fa3",
   "outputs": [
    {
     "data": {
      "text/plain": [
       "<IPython.core.display.HTML object>"
      ],
      "text/html": [
       "\n",
       "    <div>\n",
       "      \n",
       "      <progress value='296' max='15630' style='width:300px; height:20px; vertical-align: middle;'></progress>\n",
       "      [  296/15630 30:31 < 26:32:10, 0.16 it/s, Epoch 0.19/10]\n",
       "    </div>\n",
       "    <table border=\"1\" class=\"dataframe\">\n",
       "  <thead>\n",
       " <tr style=\"text-align: left;\">\n",
       "      <th>Epoch</th>\n",
       "      <th>Training Loss</th>\n",
       "      <th>Validation Loss</th>\n",
       "    </tr>\n",
       "  </thead>\n",
       "  <tbody>\n",
       "  </tbody>\n",
       "</table><p>"
      ]
     },
     "metadata": {},
     "output_type": "display_data",
     "jetTransient": {
      "display_id": "3f95da4c3d9702ebeebc0136c68704d1"
     }
    }
   ],
   "execution_count": null
  },
  {
   "cell_type": "markdown",
   "metadata": {},
   "source": [
    "## (e) Evaluation and Comparison\n",
    "\n",
    "We evaluate both the **fine-tuned (pretrained)** and **from-scratch** models."
   ],
   "id": "4bd9108338d124b1"
  },
  {
   "cell_type": "code",
   "execution_count": null,
   "metadata": {},
   "outputs": [],
   "source": [
    "# Evaluate fine-tuned model\n",
    "metrics_pretrained = trainer.evaluate(test_ds)\n",
    "print(\"Fine-tuned (pretrained) model accuracy:\", metrics_pretrained[\"eval_accuracy\"])\n",
    "\n",
    "# Train from scratch for comparison\n",
    "from transformers import ViTConfig\n",
    "\n",
    "config = ViTConfig.from_pretrained(\"google/vit-base-patch16-224\", num_labels=10)\n",
    "model_scratch = ViTForImageClassification(config)\n",
    "\n",
    "trainer_scratch = Trainer(\n",
    "    model=model_scratch,\n",
    "    args=training_args,\n",
    "    train_dataset=train_ds,\n",
    "    eval_dataset=test_ds,\n",
    "    compute_metrics=compute_metrics,\n",
    ")\n",
    "\n",
    "trainer_scratch.train()\n",
    "metrics_scratch = trainer_scratch.evaluate(test_ds)\n",
    "print(\"Trained-from-scratch model accuracy:\", metrics_scratch[\"eval_accuracy\"])\n",
    "\n",
    "# Plot comparison\n",
    "import matplotlib.pyplot as plt\n",
    "\n",
    "plt.bar(\n",
    "    [\"Pretrained\", \"Scratch\"],\n",
    "    [metrics_pretrained[\"eval_accuracy\"], metrics_scratch[\"eval_accuracy\"]],\n",
    "    color=[\"green\", \"gray\"]\n",
    ")\n",
    "plt.title(\"ViT Fine-tuning vs From Scratch (CIFAR-10)\")\n",
    "plt.ylabel(\"Accuracy\")\n",
    "plt.savefig(\"vit_cifar10_comparison.png\")\n",
    "plt.show()\n"
   ],
   "id": "363556ff7fa145e"
  },
  {
   "cell_type": "markdown",
   "metadata": {},
   "source": [
    "### Compare Results"
   ],
   "id": "6fce76569da3972f"
  },
  {
   "cell_type": "code",
   "execution_count": null,
   "metadata": {},
   "outputs": [],
   "source": [
    "import torch\n",
    "\n",
    "def visualize_attention(model, dataset, idx=0):\n",
    "    model.eval()\n",
    "    image, label = dataset[idx]\n",
    "    inputs = {\"pixel_values\": image.unsqueeze(0)}  # add batch dim\n",
    "    with torch.no_grad():\n",
    "        outputs = model(**inputs, output_attentions=True)\n",
    "    attn = outputs.attentions[-1][0].mean(0)[0, 1:].reshape(14, 14).numpy()\n",
    "\n",
    "    plt.figure(figsize=(8, 4))\n",
    "    plt.subplot(1, 2, 1)\n",
    "    plt.imshow(np.transpose(image.numpy(), (1, 2, 0)) * 0.5 + 0.5)\n",
    "    plt.title(\"Original\")\n",
    "\n",
    "    plt.subplot(1, 2, 2)\n",
    "    plt.imshow(np.transpose(image.numpy(), (1, 2, 0)) * 0.5 + 0.5)\n",
    "    plt.imshow(attn, cmap=\"jet\", alpha=0.5)\n",
    "    plt.title(\"Attention Map\")\n",
    "    plt.tight_layout()\n",
    "    plt.savefig(\"vit_attention_map.png\")\n",
    "    plt.show()\n",
    "\n",
    "visualize_attention(model, test_data)\n"
   ],
   "id": "a1757e1b77147c7c"
  },
  {
   "cell_type": "markdown",
   "metadata": {},
   "source": [
    "## (f) Attention Visualization\n",
    "\n",
    "Visualize how the ViT attends to different parts of an image."
   ],
   "id": "1f747caf72dda9a9"
  },
  {
   "cell_type": "markdown",
   "metadata": {},
   "source": [
    "## ✅ Summary\n",
    "\n",
    "| Model | Initialization | Test Accuracy | Notes |\n",
    "|--------|----------------|----------------|--------|\n",
    "| Pretrained ViT | ImageNet weights | Higher | Learns faster and generalizes well |\n",
    "| Scratch ViT | Random init | Lower | Slower convergence, overfits |\n",
    "\n",
    "This notebook demonstrates the advantages of transfer learning via fine-tuning. The pretrained model quickly achieves high accuracy with limited data, while the model trained from scratch struggles due to lack of prior visual representations."
   ],
   "id": "442f07850c1297e"
  }
 ],
 "metadata": {
  "kernelspec": {
   "display_name": "Python 3",
   "language": "python",
   "name": "python3"
  },
  "language_info": {
   "name": "python",
   "version": "3.11"
  }
 },
 "nbformat": 4,
 "nbformat_minor": 5
}
